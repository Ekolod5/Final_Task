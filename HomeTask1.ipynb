{
  "nbformat": 4,
  "nbformat_minor": 0,
  "metadata": {
    "colab": {
      "provenance": [],
      "authorship_tag": "ABX9TyPWH2ceeJLQxy43AX2HEFMk",
      "include_colab_link": true
    },
    "kernelspec": {
      "name": "python3",
      "display_name": "Python 3"
    },
    "language_info": {
      "name": "python"
    }
  },
  "cells": [
    {
      "cell_type": "markdown",
      "metadata": {
        "id": "view-in-github",
        "colab_type": "text"
      },
      "source": [
        "<a href=\"https://colab.research.google.com/github/Ekolod5/Final_Task/blob/main/HomeTask1.ipynb\" target=\"_parent\"><img src=\"https://colab.research.google.com/assets/colab-badge.svg\" alt=\"Open In Colab\"/></a>"
      ]
    },
    {
      "cell_type": "markdown",
      "source": [
        "# HomeTask1\n",
        "# Основы языка Python для аналитиков"
      ],
      "metadata": {
        "id": "YJR-cI0zIVvN"
      }
    },
    {
      "cell_type": "markdown",
      "source": [
        "## Условие 1:"
      ],
      "metadata": {
        "id": "LGJJ4TvbIWIo"
      }
    },
    {
      "cell_type": "markdown",
      "source": [
        "Оформляйте ноутбук, используя эти советы:\n",
        "\n",
        "Номер задачи - заголовок 2\n",
        "\n",
        "Номер подзадачи - заголовок 3\n",
        "\n",
        "Предоставленные наборы данных оформляйте, как код"
      ],
      "metadata": {
        "id": "E899hhY1IWMI"
      }
    },
    {
      "cell_type": "markdown",
      "source": [
        "## Условие 2:"
      ],
      "metadata": {
        "id": "BmLSFituIWWQ"
      }
    },
    {
      "cell_type": "markdown",
      "source": [
        "На складе лежат разные фрукты в разном количестве.\n",
        "Нужно написать функцию, которая на вход принимает любое количество названий фруктов и их количество, а возвращает общее количество фруктов на складе."
      ],
      "metadata": {
        "id": "gnEm3tBPIWYl"
      }
    },
    {
      "cell_type": "code",
      "source": [],
      "metadata": {
        "id": "dx-UTWUJJzin"
      },
      "execution_count": null,
      "outputs": []
    },
    {
      "cell_type": "markdown",
      "source": [
        "## Условие 3:"
      ],
      "metadata": {
        "id": "Vrj_UFw8IWbo"
      }
    },
    {
      "cell_type": "markdown",
      "source": [
        "Дан список с затратами на рекламу. Но в данных есть ошибки, некоторые затраты имеют отрицательную величину. Удалите такие значения из списка и посчитайте суммарные затраты\n",
        "[100, 125, -90, 345, 655, -1, 0, 200]\n",
        "Используйте list comprehensions"
      ],
      "metadata": {
        "id": "7i6jpsB8I8OX"
      }
    },
    {
      "cell_type": "code",
      "source": [],
      "metadata": {
        "id": "Ozcdk-jNJynf"
      },
      "execution_count": null,
      "outputs": []
    },
    {
      "cell_type": "markdown",
      "source": [
        "## Условие 4:"
      ],
      "metadata": {
        "id": "LVo3J1pDI8ar"
      }
    },
    {
      "cell_type": "markdown",
      "source": [
        "Даны два списка.\n",
        "\n",
        "Дата покупки\n",
        "\n",
        "['2021-09-14', '2021-12-15', '2021-09-08', '2021-12-05', '2021-10-09', '2021-09-30', '2021-12-22', '2021-11-29', '2021-12-24', '2021-11-26', '2021-10-27', '2021-12-18', '2021-11-09', '2021-11-23', '2021-09-27', '2021-10-02', '2021-12-27', '2021-09-20', '2021-12-13', '2021-11-01', '2021-11-09', '2021-12-06', '2021-12-08', '2021-10-09', '2021-10-31', '2021-09-30', '2021-11-09', '2021-12-13', '2021-10-26', '2021-12-09']\n"
      ],
      "metadata": {
        "id": "m6a0CeePKLzL"
      }
    },
    {
      "cell_type": "markdown",
      "source": [
        "Суммы покупок по датам\n",
        "\n",
        "[1270, 8413, 9028, 3703, 5739, 4095, 295, 4944, 5723, 3701, 4471, 651, 7037, 4274, 6275, 4988, 6930, 2971, 6592, 2004, 2822, 519, 3406, 2732, 5015, 2008, 316, 6333, 5700, 2887]"
      ],
      "metadata": {
        "id": "HYZPOf2fKlKf"
      }
    },
    {
      "cell_type": "code",
      "source": [
        "list1 = ['2021-09-14', '2021-12-15', '2021-09-08', '2021-12-05', '2021-10-09', '2021-09-30', '2021-12-22', '2021-11-29', '2021-12-24', '2021-11-26', '2021-10-27', '2021-12-18', '2021-11-09', '2021-11-23', '2021-09-27', '2021-10-02', '2021-12-27', '2021-09-20', '2021-12-13', '2021-11-01', '2021-11-09', '2021-12-06', '2021-12-08', '2021-10-09', '2021-10-31', '2021-09-30', '2021-11-09', '2021-12-13', '2021-10-26', '2021-12-09']"
      ],
      "metadata": {
        "id": "XcdmV6SvKZDf"
      },
      "execution_count": null,
      "outputs": []
    },
    {
      "cell_type": "code",
      "source": [
        "list2 = [1270, 8413, 9028, 3703, 5739, 4095, 295, 4944, 5723, 3701, 4471, 651, 7037, 4274, 6275, 4988, 6930, 2971, 6592, 2004, 2822, 519, 3406, 2732, 5015, 2008, 316, 6333, 5700, 2887]"
      ],
      "metadata": {
        "id": "a4D_tRC8KZPP"
      },
      "execution_count": null,
      "outputs": []
    },
    {
      "cell_type": "markdown",
      "source": [
        "### Условие 4.1:"
      ],
      "metadata": {
        "id": "rJ5k2zK7I8d7"
      }
    },
    {
      "cell_type": "markdown",
      "source": [
        "Найдите, какая выручка у компании в ноябре. Используйте list comprehensions"
      ],
      "metadata": {
        "id": "tTkAUyzwJ-BX"
      }
    },
    {
      "cell_type": "code",
      "source": [],
      "metadata": {
        "id": "EyfZAKgsKW8H"
      },
      "execution_count": null,
      "outputs": []
    },
    {
      "cell_type": "markdown",
      "source": [
        "### Условие 4.2:"
      ],
      "metadata": {
        "id": "cpV2zeOLI8hL"
      }
    },
    {
      "cell_type": "markdown",
      "source": [
        "Найдите выручку компании в зависимости от месяца.\n",
        "Для этого напишите функцию, которая на вход принимает список с датами и список с выручкой, а на выходе словарь, где ключи - это месяцы, а значения - это выручка.\n",
        "Используйте аннотирование типов."
      ],
      "metadata": {
        "id": "tgEJvkqDKB5T"
      }
    },
    {
      "cell_type": "code",
      "source": [],
      "metadata": {
        "id": "qxidlQYAKXub"
      },
      "execution_count": null,
      "outputs": []
    }
  ]
}